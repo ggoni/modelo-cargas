{
 "cells": [
  {
   "cell_type": "markdown",
   "metadata": {},
   "source": [
    "# Modelo de precios en función de Peso Declarado y Distancia Real : Una exploración"
   ]
  },
  {
   "cell_type": "markdown",
   "metadata": {},
   "source": [
    "Importante agregar acá las Bibliotecas"
   ]
  },
  {
   "cell_type": "code",
   "execution_count": null,
   "metadata": {
    "tags": []
   },
   "outputs": [],
   "source": [
    "import pandas as pd\n",
    "import numpy as np\n",
    "import googlemaps\n",
    "from aux_func import * #funciones auxiliares\n",
    "\n",
    "pd.options.display.max_rows = 500  #Máximo de filas a mostrar"
   ]
  },
  {
   "cell_type": "markdown",
   "metadata": {},
   "source": [
    "Hay que agregar una llave. Para simplificar, lo haremos desde un archivo."
   ]
  },
  {
   "cell_type": "code",
   "execution_count": null,
   "metadata": {
    "tags": []
   },
   "outputs": [],
   "source": [
    "def get_file_contents(filename):\n",
    "    \"\"\" \n",
    "        Dado un nombre de archivo, retorna el contenido del archivo\n",
    "    \"\"\"\n",
    "    try:\n",
    "        with open(filename, 'r') as f:\n",
    "            # Se asume que contiene solo una línea,\n",
    "            # Con la API KEY\n",
    "            return f.read().strip()\n",
    "    except FileNotFoundError:\n",
    "        print(\"'%s' No se encontro\" % filename)"
   ]
  },
  {
   "cell_type": "markdown",
   "metadata": {},
   "source": [
    "Hay que agregar la API KEY"
   ]
  },
  {
   "cell_type": "code",
   "execution_count": null,
   "metadata": {
    "tags": []
   },
   "outputs": [],
   "source": [
    "api_key = get_file_contents('apikey')"
   ]
  },
  {
   "cell_type": "markdown",
   "metadata": {},
   "source": [
    "Leemos el histórico de las cargas"
   ]
  },
  {
   "cell_type": "code",
   "execution_count": null,
   "metadata": {
    "tags": []
   },
   "outputs": [],
   "source": [
    "df = pd.read_excel('historico_cargas_enviadas.xlsx')"
   ]
  },
  {
   "cell_type": "code",
   "execution_count": null,
   "metadata": {
    "tags": []
   },
   "outputs": [],
   "source": [
    "df.info()"
   ]
  },
  {
   "cell_type": "code",
   "execution_count": null,
   "metadata": {
    "tags": []
   },
   "outputs": [],
   "source": [
    "df.describe()"
   ]
  },
  {
   "cell_type": "markdown",
   "metadata": {},
   "source": [
    "Tengo una funcion ad hoc para eliminar los valores extremos. El ```docstring```está acá:"
   ]
  },
  {
   "cell_type": "code",
   "execution_count": null,
   "metadata": {
    "tags": []
   },
   "outputs": [],
   "source": [
    "print(is_outlier.__doc__)"
   ]
  },
  {
   "cell_type": "code",
   "execution_count": null,
   "metadata": {
    "tags": []
   },
   "outputs": [],
   "source": [
    "df_marcas = is_outlier(df,features=['peso','precio_cerrado'])"
   ]
  },
  {
   "cell_type": "code",
   "execution_count": null,
   "metadata": {
    "tags": []
   },
   "outputs": [],
   "source": [
    "df_marcas.sample(5,random_state=1)"
   ]
  },
  {
   "cell_type": "code",
   "execution_count": null,
   "metadata": {
    "tags": []
   },
   "outputs": [],
   "source": [
    "df_filtrado = df_marcas[(df_marcas.is_outlier_peso == False)&\\\n",
    "    ((df_marcas.is_outlier_precio_cerrado) == False)]"
   ]
  },
  {
   "cell_type": "code",
   "execution_count": null,
   "metadata": {
    "tags": []
   },
   "outputs": [],
   "source": [
    "df_filtrado"
   ]
  },
  {
   "cell_type": "markdown",
   "metadata": {},
   "source": [
    "Hay mucho filtrado que hacer:\n",
    "- Sin precios \n",
    "- Sin pesos\n",
    "- Sin Origen correcto\n",
    "- Sin Destino correcto"
   ]
  },
  {
   "cell_type": "code",
   "execution_count": null,
   "metadata": {
    "tags": []
   },
   "outputs": [],
   "source": [
    "sin_precio = (df_filtrado.precio_cerrado==0) | (df_filtrado.precio_cerrado.isnull())\n",
    "sin_peso = (df_filtrado.peso==0) | (df_filtrado.peso.isnull())\n",
    "sin_origen = (df_filtrado.coordenadas_origen.isna()) | (df_filtrado.coordenadas_origen.isnull())| (df_filtrado.coordenadas_origen.str.len()<=7)\n",
    "sin_destino = (df_filtrado.coordenadas_destino.isna()) | (df_filtrado.coordenadas_destino.isnull())|(df_filtrado.coordenadas_destino.str.len()<=7)"
   ]
  },
  {
   "cell_type": "code",
   "execution_count": null,
   "metadata": {
    "tags": []
   },
   "outputs": [],
   "source": [
    "df_modelo = df_filtrado[((~sin_precio)&(~sin_peso)&(~sin_origen)&(~sin_destino))]"
   ]
  },
  {
   "cell_type": "code",
   "execution_count": null,
   "metadata": {
    "tags": []
   },
   "outputs": [],
   "source": [
    "df_modelo"
   ]
  },
  {
   "cell_type": "markdown",
   "metadata": {},
   "source": [
    "Instancio un objeto Cliente de GMaps"
   ]
  },
  {
   "cell_type": "code",
   "execution_count": null,
   "metadata": {
    "tags": []
   },
   "outputs": [],
   "source": [
    "gmaps = googlemaps.Client(key=api_key)"
   ]
  },
  {
   "cell_type": "markdown",
   "metadata": {},
   "source": [
    "Algunas pruebas:"
   ]
  },
  {
   "cell_type": "code",
   "execution_count": null,
   "metadata": {
    "tags": []
   },
   "outputs": [],
   "source": [
    "a = (-33.442293,-70.625701)\n",
    "b = (-33.379269,-70.691431)"
   ]
  },
  {
   "cell_type": "code",
   "execution_count": null,
   "metadata": {
    "tags": []
   },
   "outputs": [],
   "source": [
    "my_dist = gmaps.distance_matrix(a,b)['rows'][0]['elements'][0]"
   ]
  },
  {
   "cell_type": "code",
   "execution_count": null,
   "metadata": {
    "tags": []
   },
   "outputs": [],
   "source": [
    "my_dist['distance']['value']"
   ]
  },
  {
   "cell_type": "markdown",
   "metadata": {},
   "source": [
    "Tengo que crear una función de distancia que usa información de googlemaps"
   ]
  },
  {
   "cell_type": "code",
   "execution_count": null,
   "metadata": {
    "tags": []
   },
   "outputs": [],
   "source": [
    "def distancia (origin, destination):\n",
    "    \"\"\"\n",
    "    Dado un origen y un destino, retorna la distancia en metros.\n",
    "    \"\"\"\n",
    "    try: \n",
    "        my_dist = gmaps.distance_matrix(origin,destination)\n",
    "        return int(round(1.0/10000* my_dist['rows'][0]['elements'][0]['distance']['value'],0))\n",
    "    except:\n",
    "        return 1e12 #Censuro con un valor absurdo datos mal imputados\n"
   ]
  },
  {
   "cell_type": "markdown",
   "metadata": {},
   "source": [
    "Y luego vectorizarla y expresar en km"
   ]
  },
  {
   "cell_type": "code",
   "execution_count": null,
   "metadata": {
    "tags": []
   },
   "outputs": [],
   "source": [
    "v_distancia = np.vectorize(distancia)"
   ]
  },
  {
   "cell_type": "code",
   "execution_count": null,
   "metadata": {
    "tags": []
   },
   "outputs": [],
   "source": [
    "distancias = v_distancia(df_modelo.coordenadas_origen,df_modelo.coordenadas_destino)"
   ]
  },
  {
   "cell_type": "code",
   "execution_count": null,
   "metadata": {
    "tags": []
   },
   "outputs": [],
   "source": [
    "df_modelo = df_modelo.assign(distancia_km = distancias)"
   ]
  },
  {
   "cell_type": "code",
   "execution_count": null,
   "metadata": {
    "tags": []
   },
   "outputs": [],
   "source": [
    "df_modelo = df_modelo[(df_modelo.distancia_km>0)&(df_modelo.distancia_km<=1e6)]\n",
    "df_modelo = df_modelo[['peso','precio_cerrado','distancia_km']]\n",
    "df_modelo = df_modelo[df_modelo.precio_cerrado>=10000]"
   ]
  },
  {
   "cell_type": "code",
   "execution_count": null,
   "metadata": {
    "tags": []
   },
   "outputs": [],
   "source": [
    "df_modelo"
   ]
  },
  {
   "cell_type": "code",
   "execution_count": null,
   "metadata": {
    "tags": []
   },
   "outputs": [],
   "source": [
    "from pycaret.regression import *"
   ]
  },
  {
   "cell_type": "code",
   "execution_count": null,
   "metadata": {
    "tags": []
   },
   "outputs": [],
   "source": [
    "exp_reg101 = setup(data = df_modelo, \n",
    "                   target = 'precio_cerrado', \n",
    "                   session_id=123)"
   ]
  },
  {
   "cell_type": "markdown",
   "metadata": {},
   "source": [
    "Importo algunas bibliotecas para ajustar modelos, nada muy sofisticado por el momento"
   ]
  },
  {
   "cell_type": "code",
   "execution_count": null,
   "metadata": {
    "tags": []
   },
   "outputs": [],
   "source": [
    "compare_models()"
   ]
  },
  {
   "cell_type": "code",
   "execution_count": null,
   "metadata": {
    "tags": []
   },
   "outputs": [],
   "source": [
    "from sklearn.linear_model import LinearRegression\n",
    "from catboost import CatBoostRegressor"
   ]
  },
  {
   "cell_type": "code",
   "execution_count": null,
   "metadata": {
    "tags": []
   },
   "outputs": [],
   "source": [
    "X = df_modelo.drop(['precio_cerrado'],axis=1)\n",
    "y = df_modelo.precio_cerrado"
   ]
  },
  {
   "cell_type": "code",
   "execution_count": null,
   "metadata": {
    "tags": []
   },
   "outputs": [],
   "source": [
    "y"
   ]
  },
  {
   "cell_type": "code",
   "execution_count": null,
   "metadata": {
    "tags": []
   },
   "outputs": [],
   "source": [
    "lr = LinearRegression()\n",
    "cb = CatBoostRegressor()"
   ]
  },
  {
   "cell_type": "code",
   "execution_count": null,
   "metadata": {
    "tags": []
   },
   "outputs": [],
   "source": [
    "lr.fit(X,y)"
   ]
  },
  {
   "cell_type": "code",
   "execution_count": null,
   "metadata": {
    "tags": []
   },
   "outputs": [],
   "source": [
    "lr.coef_"
   ]
  },
  {
   "cell_type": "code",
   "execution_count": null,
   "metadata": {
    "tags": []
   },
   "outputs": [],
   "source": [
    "lr.intercept_"
   ]
  },
  {
   "cell_type": "code",
   "execution_count": null,
   "metadata": {
    "tags": []
   },
   "outputs": [],
   "source": [
    "X.head()"
   ]
  },
  {
   "cell_type": "code",
   "execution_count": null,
   "metadata": {
    "tags": []
   },
   "outputs": [],
   "source": [
    "cb.fit(X,y,verbose=False)"
   ]
  },
  {
   "cell_type": "code",
   "execution_count": null,
   "metadata": {
    "tags": []
   },
   "outputs": [],
   "source": [
    "cb.feature_importances_"
   ]
  },
  {
   "cell_type": "code",
   "execution_count": null,
   "metadata": {
    "tags": []
   },
   "outputs": [],
   "source": [
    "y_pred_lr = lr.predict(X)\n",
    "y_pred_cb = cb.predict(X)"
   ]
  },
  {
   "cell_type": "code",
   "execution_count": null,
   "metadata": {
    "tags": []
   },
   "outputs": [],
   "source": [
    "from sklearn.metrics import mean_absolute_error,mean_squared_error"
   ]
  },
  {
   "cell_type": "code",
   "execution_count": null,
   "metadata": {
    "tags": []
   },
   "outputs": [],
   "source": [
    "mae_lineal = mean_absolute_error(y,y_pred_lr)\n",
    "mse_lineal = mean_squared_error(y,y_pred_lr)\n",
    "mae_cb = mean_absolute_error(y,y_pred_cb)\n",
    "mse_cb = mean_squared_error(y,y_pred_cb)\n",
    "\n",
    "\n",
    "print(f\"El MAE del modelo lineal es {round(mae_lineal,0)}\")\n",
    "print(f\"El MAE del modelo catboost es {round(mae_cb,0)}\")\n",
    "\n",
    "\n",
    "print(f\"El MSE del modelo lineal es {round(mse_lineal,0)}\")\n",
    "print(f\"El MSE del modelo catboost es {round(mse_cb,0)}\")"
   ]
  },
  {
   "cell_type": "markdown",
   "metadata": {},
   "source": [
    "Notar que predicciones con ```CatBoostRegressor``` son más precisas que las del modelo lineal."
   ]
  },
  {
   "cell_type": "code",
   "execution_count": null,
   "metadata": {
    "tags": []
   },
   "outputs": [],
   "source": [
    "predicciones = pd.DataFrame(zip(y,y_pred_cb,round(y-y_pred_cb,0),df_modelo.peso,df_modelo.distancia_km),\n",
    "columns=['precio_cerrado','prediccion_cb','error_cb','peso_kg','distancia_km'])\n",
    "predicciones.prediccion_cb = predicciones.prediccion_cb.round(0) "
   ]
  },
  {
   "cell_type": "code",
   "execution_count": null,
   "metadata": {
    "tags": []
   },
   "outputs": [],
   "source": [
    "predicciones"
   ]
  },
  {
   "cell_type": "markdown",
   "metadata": {},
   "source": [
    "## Siguientes pasos\n",
    "\n",
    "- Mejorar histórico de cargas : mucho registro con errores\n",
    "- Tener más registros para separar en ```entrenamiento``` y ```prueba```\n",
    "- Afinar coeficientes   \n"
   ]
  },
  {
   "cell_type": "code",
   "execution_count": null,
   "metadata": {
    "tags": []
   },
   "outputs": [],
   "source": [
    "import matplotlib.pyplot as plt"
   ]
  },
  {
   "cell_type": "code",
   "execution_count": null,
   "metadata": {
    "tags": []
   },
   "outputs": [],
   "source": [
    "plt.scatter(y.values,y_pred_cb,alpha=0.6)\n",
    "plt.plot(y.values,y.values,'r','--')\n",
    "plt.xlim(0,70e3)\n",
    "plt.ylim(0,70e3)\n",
    "plt.show()"
   ]
  },
  {
   "cell_type": "code",
   "execution_count": null,
   "metadata": {
    "tags": []
   },
   "outputs": [],
   "source": [
    "y.values"
   ]
  }
 ],
 "metadata": {
  "interpreter": {
   "hash": "94970a83f6df13b263bd95d619938731fc0e5ce99635b02798f3cdafa887506f"
  },
  "kernelspec": {
   "display_name": "pycaret_full",
   "language": "python",
   "name": "pycaret_full"
  },
  "language_info": {
   "codemirror_mode": {
    "name": "ipython",
    "version": 3
   },
   "file_extension": ".py",
   "mimetype": "text/x-python",
   "name": "python",
   "nbconvert_exporter": "python",
   "pygments_lexer": "ipython3",
   "version": "3.8.16"
  }
 },
 "nbformat": 4,
 "nbformat_minor": 4
}
